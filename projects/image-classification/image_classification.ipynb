{
 "cells": [
  {
   "cell_type": "markdown",
   "metadata": {
    "collapsed": true,
    "deletable": true,
    "editable": true
   },
   "source": [
    "# Image Classification\n",
    "In this project, you'll classify images from the [CIFAR-10 dataset](https://www.cs.toronto.edu/~kriz/cifar.html).  The dataset consists of airplanes, dogs, cats, and other objects. You'll preprocess the images, then train a convolutional neural network on all the samples. The images need to be normalized and the labels need to be one-hot encoded.  You'll get to apply what you learned and build a convolutional, max pooling, dropout, and fully connected layers.  At the end, you'll get to see your neural network's predictions on the sample images.\n",
    "## Get the Data\n",
    "Run the following cell to download the [CIFAR-10 dataset for python](https://www.cs.toronto.edu/~kriz/cifar-10-python.tar.gz)."
   ]
  },
  {
   "cell_type": "code",
   "execution_count": 1,
   "metadata": {
    "collapsed": false,
    "deletable": true,
    "editable": true
   },
   "outputs": [
    {
     "name": "stdout",
     "output_type": "stream",
     "text": [
      "All files found!\n"
     ]
    }
   ],
   "source": [
    "\"\"\"\n",
    "DON'T MODIFY ANYTHING IN THIS CELL THAT IS BELOW THIS LINE\n",
    "\"\"\"\n",
    "from urllib.request import urlretrieve\n",
    "from os.path import isfile, isdir\n",
    "from tqdm import tqdm\n",
    "import problem_unittests as tests\n",
    "import tarfile\n",
    "\n",
    "cifar10_dataset_folder_path = 'cifar-10-batches-py'\n",
    "\n",
    "class DLProgress(tqdm):\n",
    "    last_block = 0\n",
    "\n",
    "    def hook(self, block_num=1, block_size=1, total_size=None):\n",
    "        self.total = total_size\n",
    "        self.update((block_num - self.last_block) * block_size)\n",
    "        self.last_block = block_num\n",
    "\n",
    "if not isfile('cifar-10-python.tar.gz'):\n",
    "    with DLProgress(unit='B', unit_scale=True, miniters=1, desc='CIFAR-10 Dataset') as pbar:\n",
    "        urlretrieve(\n",
    "            'https://www.cs.toronto.edu/~kriz/cifar-10-python.tar.gz',\n",
    "            'cifar-10-python.tar.gz',\n",
    "            pbar.hook)\n",
    "\n",
    "if not isdir(cifar10_dataset_folder_path):\n",
    "    with tarfile.open('cifar-10-python.tar.gz') as tar:\n",
    "        tar.extractall()\n",
    "        tar.close()\n",
    "\n",
    "\n",
    "tests.test_folder_path(cifar10_dataset_folder_path)"
   ]
  },
  {
   "cell_type": "markdown",
   "metadata": {
    "deletable": true,
    "editable": true
   },
   "source": [
    "## Explore the Data\n",
    "The dataset is broken into batches to prevent your machine from running out of memory.  The CIFAR-10 dataset consists of 5 batches, named `data_batch_1`, `data_batch_2`, etc.. Each batch contains the labels and images that are one of the following:\n",
    "* airplane\n",
    "* automobile\n",
    "* bird\n",
    "* cat\n",
    "* deer\n",
    "* dog\n",
    "* frog\n",
    "* horse\n",
    "* ship\n",
    "* truck\n",
    "\n",
    "Understanding a dataset is part of making predictions on the data.  Play around with the code cell below by changing the `batch_id` and `sample_id`. The `batch_id` is the id for a batch (1-5). The `sample_id` is the id for a image and label pair in the batch.\n",
    "\n",
    "Ask yourself \"What are all possible labels?\", \"What is the range of values for the image data?\", \"Are the labels in order or random?\".  Answers to questions like these will help you preprocess the data and end up with better predictions."
   ]
  },
  {
   "cell_type": "code",
   "execution_count": 2,
   "metadata": {
    "collapsed": false,
    "deletable": true,
    "editable": true
   },
   "outputs": [
    {
     "name": "stdout",
     "output_type": "stream",
     "text": [
      "\n",
      "Stats of batch 1:\n",
      "Samples: 10000\n",
      "Label Counts: {0: 1005, 1: 974, 2: 1032, 3: 1016, 4: 999, 5: 937, 6: 1030, 7: 1001, 8: 1025, 9: 981}\n",
      "First 20 Labels: [6, 9, 9, 4, 1, 1, 2, 7, 8, 3, 4, 7, 7, 2, 9, 9, 9, 3, 2, 6]\n",
      "\n",
      "Example of Image 2000:\n",
      "Image - Min Value: 19 Max Value: 255\n",
      "Image - Shape: (32, 32, 3)\n",
      "Label - Label Id: 7 Name: horse\n"
     ]
    },
    {
     "data": {
      "image/png": "[encoded data removed]",
      "text/plain": [
       "<matplotlib.figure.Figure at 0x7ff4c9a37a20>"
      ]
     },
     "metadata": {
      "image/png": {
       "height": 250,
       "width": 253
      }
     },
     "output_type": "display_data"
    }
   ],
   "source": [
    "%matplotlib inline\n",
    "%config InlineBackend.figure_format = 'retina'\n",
    "\n",
    "import helper\n",
    "import numpy as np\n",
    "\n",
    "# Explore the dataset\n",
    "batch_id = 1\n",
    "sample_id = 2000\n",
    "helper.display_stats(cifar10_dataset_folder_path, batch_id, sample_id)"
   ]
  },
  {
   "cell_type": "markdown",
   "metadata": {
    "deletable": true,
    "editable": true
   },
   "source": [
    "## Implement Preprocess Functions\n",
    "### Normalize\n",
    "In the cell below, implement the `normalize` function to take in image data, `x`, and return it as a normalized Numpy array. The values should be in the range of 0 to 1, inclusive.  The return object should be the same shape as `x`."
   ]
  },
  {
   "cell_type": "code",
   "execution_count": 3,
   "metadata": {
    "collapsed": false,
    "deletable": true,
    "editable": true
   },
   "outputs": [
    {
     "name": "stdout",
     "output_type": "stream",
     "text": [
      "Tests Passed\n"
     ]
    }
   ],
   "source": [
    "def normalize(x):\n",
    "    \"\"\"\n",
    "    Normalize a list of sample image data in the range of 0 to 1\n",
    "    : x: List of image data.  The image shape is (32, 32, 3)\n",
    "    : return: Numpy array of normalize data\n",
    "    \"\"\"\n",
    "    # TODO: Implement Function\n",
    "    return (x - np.min(x))/(np.max(x) - np.min(x))\n",
    "\n",
    "\n",
    "\"\"\"\n",
    "DON'T MODIFY ANYTHING IN THIS CELL THAT IS BELOW THIS LINE\n",
    "\"\"\"\n",
    "tests.test_normalize(normalize)"
   ]
  },
  {
   "cell_type": "markdown",
   "metadata": {
    "deletable": true,
    "editable": true
   },
   "source": [
    "### One-hot encode\n",
    "Just like the previous code cell, you'll be implementing a function for preprocessing.  This time, you'll implement the `one_hot_encode` function. The input, `x`, are a list of labels.  Implement the function to return the list of labels as One-Hot encoded Numpy array.  The possible values for labels are 0 to 9. The one-hot encoding function should return the same encoding for each value between each call to `one_hot_encode`.  Make sure to save the map of encodings outside the function.\n",
    "\n",
    "**Hint:**\n",
    "\n",
    "Look into LabelBinarizer in the preprocessing module of sklearn."
   ]
  },
  {
   "cell_type": "code",
   "execution_count": 4,
   "metadata": {
    "collapsed": false,
    "deletable": true,
    "editable": true
   },
   "outputs": [
    {
     "name": "stdout",
     "output_type": "stream",
     "text": [
      "Tests Passed\n"
     ]
    }
   ],
   "source": [
    "from sklearn import preprocessing\n",
    "lb = preprocessing.LabelBinarizer()\n",
    "lb.classes_ = range(0,10)\n",
    "def one_hot_encode(x):\n",
    "    \"\"\"\n",
    "    One hot encode a list of sample labels. Return a one-hot encoded vector for each label.\n",
    "    : x: List of sample Labels\n",
    "    : return: Numpy array of one-hot encoded labels\n",
    "    \"\"\"\n",
    "    if not hasattr(lb,'classes_'):\n",
    "        lb.fit(x)\n",
    "    \n",
    "    return lb.transform(x)\n",
    "\n",
    "\"\"\"\n",
    "DON'T MODIFY ANYTHING IN THIS CELL THAT IS BELOW THIS LINE\n",
    "\"\"\"\n",
    "tests.test_one_hot_encode(one_hot_encode)\n"
   ]
  },
  {
   "cell_type": "markdown",
   "metadata": {
    "deletable": true,
    "editable": true
   },
   "source": [
    "### Randomize Data\n",
    "As you saw from exploring the data above, the order of the samples are randomized.  It doesn't hurt to randomize it again, but you don't need to for this dataset."
   ]
  },
  {
   "cell_type": "markdown",
   "metadata": {
    "deletable": true,
    "editable": true
   },
   "source": [
    "## Preprocess all the data and save it\n",
    "Running the code cell below will preprocess all the CIFAR-10 data and save it to file. The code below also uses 10% of the training data for validation."
   ]
  },
  {
   "cell_type": "code",
   "execution_count": 5,
   "metadata": {
    "collapsed": true,
    "deletable": true,
    "editable": true
   },
   "outputs": [],
   "source": [
    "\"\"\"\n",
    "DON'T MODIFY ANYTHING IN THIS CELL\n",
    "\"\"\"\n",
    "# Preprocess Training, Validation, and Testing Data\n",
    "helper.preprocess_and_save_data(cifar10_dataset_folder_path, normalize, one_hot_encode)"
   ]
  },
  {
   "cell_type": "markdown",
   "metadata": {
    "deletable": true,
    "editable": true
   },
   "source": [
    "# Check Point\n",
    "This is your first checkpoint.  If you ever decide to come back to this notebook or have to restart the notebook, you can start from here.  The preprocessed data has been saved to disk."
   ]
  },
  {
   "cell_type": "code",
   "execution_count": 6,
   "metadata": {
    "collapsed": false,
    "deletable": true,
    "editable": true
   },
   "outputs": [],
   "source": [
    "\"\"\"\n",
    "DON'T MODIFY ANYTHING IN THIS CELL\n",
    "\"\"\"\n",
    "import pickle\n",
    "import problem_unittests as tests\n",
    "import helper\n",
    "\n",
    "# Load the Preprocessed Validation data\n",
    "valid_features, valid_labels = pickle.load(open('preprocess_validation.p', mode='rb'))"
   ]
  },
  {
   "cell_type": "markdown",
   "metadata": {
    "deletable": true,
    "editable": true
   },
   "source": [
    "## Build the network\n",
    "For the neural network, you'll build each layer into a function.  Most of the code you've seen has been outside of functions. To test your code more thoroughly, we require that you put each layer in a function.  This allows us to give you better feedback and test for simple mistakes using our unittests before you submit your project.\n",
    "\n",
    ">**Note:** If you're finding it hard to dedicate enough time for this course each week, we've provided a small shortcut to this part of the project. In the next couple of problems, you'll have the option to use classes from the [TensorFlow Layers](https://www.tensorflow.org/api_docs/python/tf/layers) or [TensorFlow Layers (contrib)](https://www.tensorflow.org/api_guides/python/contrib.layers) packages to build each layer, except the layers you build in the \"Convolutional and Max Pooling Layer\" section.  TF Layers is similar to Keras's and TFLearn's abstraction to layers, so it's easy to pickup.\n",
    "\n",
    ">However, if you would like to get the most out of this course, try to solve all the problems _without_ using anything from the TF Layers packages. You **can** still use classes from other packages that happen to have the same name as ones you find in TF Layers! For example, instead of using the TF Layers version of the `conv2d` class, [tf.layers.conv2d](https://www.tensorflow.org/api_docs/python/tf/layers/conv2d), you would want to use the TF Neural Network version of `conv2d`, [tf.nn.conv2d](https://www.tensorflow.org/api_docs/python/tf/nn/conv2d). \n",
    "\n",
    "Let's begin!\n",
    "\n",
    "### Input\n",
    "The neural network needs to read the image data, one-hot encoded labels, and dropout keep probability. Implement the following functions\n",
    "* Implement `neural_net_image_input`\n",
    " * Return a [TF Placeholder](https://www.tensorflow.org/api_docs/python/tf/placeholder)\n",
    " * Set the shape using `image_shape` with batch size set to `None`.\n",
    " * Name the TensorFlow placeholder \"x\" using the TensorFlow `name` parameter in the [TF Placeholder](https://www.tensorflow.org/api_docs/python/tf/placeholder).\n",
    "* Implement `neural_net_label_input`\n",
    " * Return a [TF Placeholder](https://www.tensorflow.org/api_docs/python/tf/placeholder)\n",
    " * Set the shape using `n_classes` with batch size set to `None`.\n",
    " * Name the TensorFlow placeholder \"y\" using the TensorFlow `name` parameter in the [TF Placeholder](https://www.tensorflow.org/api_docs/python/tf/placeholder).\n",
    "* Implement `neural_net_keep_prob_input`\n",
    " * Return a [TF Placeholder](https://www.tensorflow.org/api_docs/python/tf/placeholder) for dropout keep probability.\n",
    " * Name the TensorFlow placeholder \"keep_prob\" using the TensorFlow `name` parameter in the [TF Placeholder](https://www.tensorflow.org/api_docs/python/tf/placeholder).\n",
    "\n",
    "These names will be used at the end of the project to load your saved model.\n",
    "\n",
    "Note: `None` for shapes in TensorFlow allow for a dynamic size."
   ]
  },
  {
   "cell_type": "code",
   "execution_count": 7,
   "metadata": {
    "collapsed": false,
    "deletable": true,
    "editable": true
   },
   "outputs": [
    {
     "name": "stdout",
     "output_type": "stream",
     "text": [
      "Image Input Tests Passed.\n",
      "Label Input Tests Passed.\n",
      "Keep Prob Tests Passed.\n"
     ]
    }
   ],
   "source": [
    "import tensorflow as tf\n",
    "\n",
    "def neural_net_image_input(image_shape):\n",
    "    \"\"\"\n",
    "    Return a Tensor for a batch of image input\n",
    "    : image_shape: Shape of the images\n",
    "    : return: Tensor for image input.\n",
    "    \"\"\"\n",
    "    # TODO: Implement Function\n",
    "    return tf.placeholder(tf.float32, shape = (None,) + image_shape,name = 'x')\n",
    "\n",
    "def neural_net_label_input(n_classes):\n",
    "    \"\"\"\n",
    "    Return a Tensor for a batch of label input\n",
    "    : n_classes: Number of classes\n",
    "    : return: Tensor for label input.\n",
    "    \"\"\"\n",
    "    # TODO: Implement Function\n",
    "    return tf.placeholder(tf.float32, shape = (None, n_classes), name = 'y')\n",
    "\n",
    "\n",
    "def neural_net_keep_prob_input():\n",
    "    \"\"\"\n",
    "    Return a Tensor for keep probability\n",
    "    : return: Tensor for keep probability.\n",
    "    \"\"\"\n",
    "    # TODO: Implement Function\n",
    "    return tf.placeholder(tf.float32,name = 'keep_prob')\n",
    "\n",
    "\n",
    "\"\"\"\n",
    "DON'T MODIFY ANYTHING IN THIS CELL THAT IS BELOW THIS LINE\n",
    "\"\"\"\n",
    "tf.reset_default_graph()\n",
    "tests.test_nn_image_inputs(neural_net_image_input)\n",
    "tests.test_nn_label_inputs(neural_net_label_input)\n",
    "tests.test_nn_keep_prob_inputs(neural_net_keep_prob_input)"
   ]
  },
  {
   "cell_type": "markdown",
   "metadata": {
    "deletable": true,
    "editable": true
   },
   "source": [
    "### Convolution and Max Pooling Layer\n",
    "Convolution layers have a lot of success with images. For this code cell, you should implement the function `conv2d_maxpool` to apply convolution then max pooling:\n",
    "* Create the weight and bias using `conv_ksize`, `conv_num_outputs` and the shape of `x_tensor`.\n",
    "* Apply a convolution to `x_tensor` using weight and `conv_strides`.\n",
    " * We recommend you use same padding, but you're welcome to use any padding.\n",
    "* Add bias\n",
    "* Add a nonlinear activation to the convolution.\n",
    "* Apply Max Pooling using `pool_ksize` and `pool_strides`.\n",
    " * We recommend you use same padding, but you're welcome to use any padding.\n",
    "\n",
    "**Note:** You **can't** use [TensorFlow Layers](https://www.tensorflow.org/api_docs/python/tf/layers) or [TensorFlow Layers (contrib)](https://www.tensorflow.org/api_guides/python/contrib.layers) for **this** layer, but you can still use TensorFlow's [Neural Network](https://www.tensorflow.org/api_docs/python/tf/nn) package. You may still use the shortcut option for all the **other** layers.\n",
    "\n",
    "** Hint: **\n",
    "\n",
    "When unpacking values as an argument in Python, look into the [unpacking](https://docs.python.org/3/tutorial/controlflow.html#unpacking-argument-lists) operator. "
   ]
  },
  {
   "cell_type": "code",
   "execution_count": 8,
   "metadata": {
    "collapsed": false,
    "deletable": true,
    "editable": true
   },
   "outputs": [
    {
     "name": "stdout",
     "output_type": "stream",
     "text": [
      "Tests Passed\n"
     ]
    }
   ],
   "source": [
    "def conv2d_maxpool(x_tensor, conv_num_outputs, conv_ksize, conv_strides, pool_ksize, pool_strides):\n",
    "    \"\"\"\n",
    "    Apply convolution then max pooling to x_tensor\n",
    "    :param x_tensor: TensorFlow Tensor\n",
    "    :param conv_num_outputs: Number of outputs for the convolutional layer\n",
    "    :param conv_ksize: kernal size 2-D Tuple for the convolutional layer\n",
    "    :param conv_strides: Stride 2-D Tuple for convolution\n",
    "    :param pool_ksize: kernal size 2-D Tuple for pool\n",
    "    :param pool_strides: Stride 2-D Tuple for pool\n",
    "    : return: A tensor that represents convolution and max pooling of x_tensor\n",
    "    \"\"\"\n",
    "    # TODO: Implement Function\n",
    "    x_tensor_shape = x_tensor.get_shape()\n",
    "    weight = tf.Variable(tf.truncated_normal(conv_ksize + (x_tensor_shape[3].value,) + (conv_num_outputs,),\n",
    "                                             stddev=1/np.sqrt(conv_ksize[0] * conv_ksize[0] * x_tensor_shape[3].value)))\n",
    "    bias = tf.Variable(tf.zeros([conv_num_outputs]))\n",
    "    \n",
    "    convnet = tf.nn.conv2d (x_tensor,\n",
    "                 weight,\n",
    "                 strides = (1,) + conv_strides +(1,),\n",
    "                 padding = 'VALID')\n",
    "    convnet = tf.nn.bias_add(convnet, bias)\n",
    "    convnet = tf.nn.relu(convnet)\n",
    "    convnet = tf.nn.max_pool(convnet, \n",
    "                          ksize = (1,) + pool_ksize + (1,),\n",
    "                          strides = (1,) + pool_strides + (1,),\n",
    "                          padding = 'VALID')\n",
    "    \n",
    "    return convnet \n",
    "\n",
    "\n",
    "\"\"\"\n",
    "DON'T MODIFY ANYTHING IN THIS CELL THAT IS BELOW THIS LINE\n",
    "\"\"\"\n",
    "tests.test_con_pool(conv2d_maxpool)"
   ]
  },
  {
   "cell_type": "markdown",
   "metadata": {
    "deletable": true,
    "editable": true
   },
   "source": [
    "### Flatten Layer\n",
    "Implement the `flatten` function to change the dimension of `x_tensor` from a 4-D tensor to a 2-D tensor.  The output should be the shape (*Batch Size*, *Flattened Image Size*). Shortcut option: you can use classes from the [TensorFlow Layers](https://www.tensorflow.org/api_docs/python/tf/layers) or [TensorFlow Layers (contrib)](https://www.tensorflow.org/api_guides/python/contrib.layers) packages for this layer. For more of a challenge, only use other TensorFlow packages."
   ]
  },
  {
   "cell_type": "code",
   "execution_count": 9,
   "metadata": {
    "collapsed": false,
    "deletable": true,
    "editable": true
   },
   "outputs": [
    {
     "name": "stdout",
     "output_type": "stream",
     "text": [
      "Tests Passed\n"
     ]
    }
   ],
   "source": [
    "def flatten(x_tensor):\n",
    "    \"\"\"\n",
    "    Flatten x_tensor to (Batch Size, Flattened Image Size)\n",
    "    : x_tensor: A tensor of size (Batch Size, ...), where ... are the image dimensions.\n",
    "    : return: A tensor of size (Batch Size, Flattened Image Size).\n",
    "    \"\"\"\n",
    "    # TODO: Implement Function\n",
    "    tensor_shape = x_tensor.get_shape()\n",
    "    image_size = tensor_shape[1].value * tensor_shape[2].value * tensor_shape[3].value\n",
    "\n",
    "    return tf.reshape(x_tensor,[-1,image_size])\n",
    "\n",
    "\n",
    "\"\"\"\n",
    "DON'T MODIFY ANYTHING IN THIS CELL THAT IS BELOW THIS LINE\n",
    "\"\"\"\n",
    "tests.test_flatten(flatten)"
   ]
  },
  {
   "cell_type": "markdown",
   "metadata": {
    "deletable": true,
    "editable": true
   },
   "source": [
    "### Fully-Connected Layer\n",
    "Implement the `fully_conn` function to apply a fully connected layer to `x_tensor` with the shape (*Batch Size*, *num_outputs*). Shortcut option: you can use classes from the [TensorFlow Layers](https://www.tensorflow.org/api_docs/python/tf/layers) or [TensorFlow Layers (contrib)](https://www.tensorflow.org/api_guides/python/contrib.layers) packages for this layer. For more of a challenge, only use other TensorFlow packages."
   ]
  },
  {
   "cell_type": "code",
   "execution_count": 10,
   "metadata": {
    "collapsed": false,
    "deletable": true,
    "editable": true
   },
   "outputs": [
    {
     "name": "stdout",
     "output_type": "stream",
     "text": [
      "Tests Passed\n"
     ]
    }
   ],
   "source": [
    "def fully_conn(x_tensor, num_outputs):\n",
    "    \"\"\"\n",
    "    Apply a fully connected layer to x_tensor using weight and bias\n",
    "    : x_tensor: A 2-D tensor where the first dimension is batch size.\n",
    "    : num_outputs: The number of output that the new tensor should be.\n",
    "    : return: A 2-D tensor where the second dimension is num_outputs.\n",
    "    \"\"\"\n",
    "    # TODO: Implement Function\n",
    "    tensor_shape = x_tensor.get_shape()\n",
    "    weight = tf.Variable(tf.truncated_normal([tensor_shape[1].value,num_outputs],\n",
    "                                             stddev=1/np.sqrt(tensor_shape[1].value)))\n",
    "    bias = tf.Variable(tf.zeros([num_outputs]))\n",
    "    return tf.nn.relu(tf.add(tf.matmul(x_tensor, weight), bias))\n",
    "\n",
    "\n",
    "\"\"\"\n",
    "DON'T MODIFY ANYTHING IN THIS CELL THAT IS BELOW THIS LINE\n",
    "\"\"\"\n",
    "tests.test_fully_conn(fully_conn)"
   ]
  },
  {
   "cell_type": "markdown",
   "metadata": {
    "deletable": true,
    "editable": true
   },
   "source": [
    "### Output Layer\n",
    "Implement the `output` function to apply a fully connected layer to `x_tensor` with the shape (*Batch Size*, *num_outputs*). Shortcut option: you can use classes from the [TensorFlow Layers](https://www.tensorflow.org/api_docs/python/tf/layers) or [TensorFlow Layers (contrib)](https://www.tensorflow.org/api_guides/python/contrib.layers) packages for this layer. For more of a challenge, only use other TensorFlow packages.\n",
    "\n",
    "**Note:** Activation, softmax, or cross entropy should **not** be applied to this."
   ]
  },
  {
   "cell_type": "code",
   "execution_count": 11,
   "metadata": {
    "collapsed": false,
    "deletable": true,
    "editable": true
   },
   "outputs": [
    {
     "name": "stdout",
     "output_type": "stream",
     "text": [
      "Tests Passed\n"
     ]
    }
   ],
   "source": [
    "def output(x_tensor, num_outputs):\n",
    "    \"\"\"\n",
    "    Apply a output layer to x_tensor using weight and bias\n",
    "    : x_tensor: A 2-D tensor where the first dimension is batch size.\n",
    "    : num_outputs: The number of output that the new tensor should be.\n",
    "    : return: A 2-D tensor where the second dimension is num_outputs.\n",
    "    \"\"\"\n",
    "    tensor_shape = x_tensor.get_shape()\n",
    "    weight = tf.Variable(tf.truncated_normal([tensor_shape[1].value,num_outputs], \n",
    "                                             stddev=1/np.sqrt(tensor_shape[1].value)))\n",
    "    bias = tf.Variable(tf.zeros([num_outputs]))\n",
    "    return tf.add(tf.matmul(x_tensor, weight), bias)\n",
    "\n",
    "\n",
    "\"\"\"\n",
    "DON'T MODIFY ANYTHING IN THIS CELL THAT IS BELOW THIS LINE\n",
    "\"\"\"\n",
    "tests.test_output(output)"
   ]
  },
  {
   "cell_type": "markdown",
   "metadata": {
    "deletable": true,
    "editable": true
   },
   "source": [
    "### Create Convolutional Model\n",
    "Implement the function `conv_net` to create a convolutional neural network model. The function takes in a batch of images, `x`, and outputs logits.  Use the layers you created above to create this model:\n",
    "\n",
    "* Apply 1, 2, or 3 Convolution and Max Pool layers\n",
    "* Apply a Flatten Layer\n",
    "* Apply 1, 2, or 3 Fully Connected Layers\n",
    "* Apply an Output Layer\n",
    "* Return the output\n",
    "* Apply [TensorFlow's Dropout](https://www.tensorflow.org/api_docs/python/tf/nn/dropout) to one or more layers in the model using `keep_prob`. "
   ]
  },
  {
   "cell_type": "code",
   "execution_count": 12,
   "metadata": {
    "collapsed": false,
    "deletable": true,
    "editable": true
   },
   "outputs": [
    {
     "name": "stdout",
     "output_type": "stream",
     "text": [
      "Neural Network Built!\n"
     ]
    }
   ],
   "source": [
    "def conv_net(x, keep_prob):\n",
    "    \"\"\"\n",
    "    Create a convolutional neural network model\n",
    "    : x: Placeholder tensor that holds image data.\n",
    "    : keep_prob: Placeholder tensor that hold dropout keep probability.\n",
    "    : return: Tensor that represents logits\n",
    "    \"\"\"\n",
    "    # TODO: Apply 1, 2, or 3 Convolution and Max Pool layers\n",
    "    #    Play around with different number of outputs, kernel size and stride\n",
    "    # Function Definition from Above:\n",
    "    #    conv2d_maxpool(x_tensor, conv_num_outputs, conv_ksize, conv_strides, pool_ksize, pool_strides)\n",
    "    conv = conv2d_maxpool(x, 32, (5,5), (2,2), (3,3), (1,1))\n",
    "    conv = tf.nn.dropout(conv, keep_prob)\n",
    "    conv = conv2d_maxpool(conv, 64, (3,3), (1,1), (2,2), (1,1))\n",
    "    conv = tf.nn.dropout(conv, keep_prob)\n",
    "    # TODO: Apply a Flatten Layer\n",
    "    # Function Definition from Above:\n",
    "    #   flatten(x_tensor)\n",
    "    conv = flatten(conv)\n",
    "\n",
    "    # TODO: Apply 1, 2, or 3 Fully Connected Layers\n",
    "    #    Play around with different number of outputs\n",
    "    # Function Definition from Above:\n",
    "    #   fully_conn(x_tensor, num_outputs)\n",
    "    #conv = fully_conn(conv,60)\n",
    "    #conv = tf.nn.dropout(conv, keep_prob)    \n",
    "    conv = fully_conn(conv,200)  \n",
    "    conv = tf.nn.dropout(conv,keep_prob)  \n",
    "    conv = fully_conn(conv,100)  \n",
    "    conv = tf.nn.dropout(conv,keep_prob)  \n",
    "    # TODO: Apply an Output Layer\n",
    "    #    Set this to the number of classes\n",
    "    # Function Definition from Above:\n",
    "    #   output(x_tensor, num_outputs)    \n",
    "    conv = output(conv,10) \n",
    "    \n",
    "    \n",
    "    # TODO: return output\n",
    "    return conv\n",
    "\n",
    "\n",
    "\"\"\"\n",
    "DON'T MODIFY ANYTHING IN THIS CELL THAT IS BELOW THIS LINE\n",
    "\"\"\"\n",
    "\n",
    "##############################\n",
    "## Build the Neural Network ##\n",
    "##############################\n",
    "\n",
    "# Remove previous weights, bias, inputs, etc..\n",
    "tf.reset_default_graph()\n",
    "\n",
    "# Inputs\n",
    "x = neural_net_image_input((32, 32, 3))\n",
    "y = neural_net_label_input(10)\n",
    "keep_prob = neural_net_keep_prob_input()\n",
    "\n",
    "# Model\n",
    "logits = conv_net(x, keep_prob)\n",
    "\n",
    "# Name logits Tensor, so that is can be loaded from disk after training\n",
    "logits = tf.identity(logits, name='logits')\n",
    "\n",
    "# Loss and Optimizer\n",
    "cost = tf.reduce_mean(tf.nn.softmax_cross_entropy_with_logits(logits=logits, labels=y))\n",
    "optimizer = tf.train.AdamOptimizer().minimize(cost)\n",
    "\n",
    "# Accuracy\n",
    "correct_pred = tf.equal(tf.argmax(logits, 1), tf.argmax(y, 1))\n",
    "accuracy = tf.reduce_mean(tf.cast(correct_pred, tf.float32), name='accuracy')\n",
    "\n",
    "tests.test_conv_net(conv_net)"
   ]
  },
  {
   "cell_type": "markdown",
   "metadata": {
    "deletable": true,
    "editable": true
   },
   "source": [
    "## Train the Neural Network\n",
    "### Single Optimization\n",
    "Implement the function `train_neural_network` to do a single optimization.  The optimization should use `optimizer` to optimize in `session` with a `feed_dict` of the following:\n",
    "* `x` for image input\n",
    "* `y` for labels\n",
    "* `keep_prob` for keep probability for dropout\n",
    "\n",
    "This function will be called for each batch, so `tf.global_variables_initializer()` has already been called.\n",
    "\n",
    "Note: Nothing needs to be returned. This function is only optimizing the neural network."
   ]
  },
  {
   "cell_type": "code",
   "execution_count": 13,
   "metadata": {
    "collapsed": false,
    "deletable": true,
    "editable": true
   },
   "outputs": [
    {
     "name": "stdout",
     "output_type": "stream",
     "text": [
      "Tests Passed\n"
     ]
    }
   ],
   "source": [
    "def train_neural_network(session, optimizer, keep_probability, feature_batch, label_batch):\n",
    "    \"\"\"\n",
    "    Optimize the session on a batch of images and labels\n",
    "    : session: Current TensorFlow session\n",
    "    : optimizer: TensorFlow optimizer function\n",
    "    : keep_probability: keep probability\n",
    "    : feature_batch: Batch of Numpy image data\n",
    "    : label_batch: Batch of Numpy label data\n",
    "    \"\"\"\n",
    "    # TODO: Implement Function\n",
    "    session.run(optimizer, feed_dict= {\n",
    "            x: feature_batch,\n",
    "            y: label_batch,\n",
    "            keep_prob: keep_probability\n",
    "        })\n",
    "\n",
    "\n",
    "\n",
    "\"\"\"\n",
    "DON'T MODIFY ANYTHING IN THIS CELL THAT IS BELOW THIS LINE\n",
    "\"\"\"\n",
    "tests.test_train_nn(train_neural_network)"
   ]
  },
  {
   "cell_type": "markdown",
   "metadata": {
    "deletable": true,
    "editable": true
   },
   "source": [
    "### Show Stats\n",
    "Implement the function `print_stats` to print loss and validation accuracy.  Use the global variables `valid_features` and `valid_labels` to calculate validation accuracy.  Use a keep probability of `1.0` to calculate the loss and validation accuracy."
   ]
  },
  {
   "cell_type": "code",
   "execution_count": 14,
   "metadata": {
    "collapsed": true,
    "deletable": true,
    "editable": true
   },
   "outputs": [],
   "source": [
    "def print_stats(session, feature_batch, label_batch, cost, accuracy):\n",
    "    \"\"\"\n",
    "    Print information about loss and validation accuracy\n",
    "    : session: Current TensorFlow session\n",
    "    : feature_batch: Batch of Numpy image data\n",
    "    : label_batch: Batch of Numpy label data\n",
    "    : cost: TensorFlow cost function\n",
    "    : accuracy: TensorFlow accuracy function\n",
    "    \"\"\"\n",
    "    # TODO: Implement Function\n",
    "    t_loss = session.run(cost, feed_dict = {\n",
    "        x: feature_batch,\n",
    "        y: label_batch,\n",
    "        keep_prob: 1.\n",
    "    })\n",
    "    t_accu = session.run(accuracy, feed_dict = {\n",
    "        x: feature_batch,\n",
    "        y: label_batch,\n",
    "        keep_prob: 1.\n",
    "    })\n",
    "    v_loss = session.run(cost, feed_dict = {\n",
    "        x: valid_features,\n",
    "        y: valid_labels,\n",
    "        keep_prob: 1.\n",
    "    })\n",
    "    v_accu = session.run(accuracy, feed_dict = {\n",
    "        x: valid_features,\n",
    "        y: valid_labels,\n",
    "        keep_prob: 1.\n",
    "    })\n",
    "    print ('T_Loss: {:>10.4f} t_Accuracy: {:.6f} V_Loss: {:>10.4f} V_Accuracy: {:.6f}'.format(t_loss,\n",
    "                t_accu,v_loss,v_accu))"
   ]
  },
  {
   "cell_type": "markdown",
   "metadata": {
    "deletable": true,
    "editable": true
   },
   "source": [
    "### Hyperparameters\n",
    "Tune the following parameters:\n",
    "* Set `epochs` to the number of iterations until the network stops learning or start overfitting\n",
    "* Set `batch_size` to the highest number that your machine has memory for.  Most people set them to common sizes of memory:\n",
    " * 64\n",
    " * 128\n",
    " * 256\n",
    " * ...\n",
    "* Set `keep_probability` to the probability of keeping a node using dropout"
   ]
  },
  {
   "cell_type": "code",
   "execution_count": 15,
   "metadata": {
    "collapsed": true,
    "deletable": true,
    "editable": true
   },
   "outputs": [],
   "source": [
    "# TODO: Tune Parameters\n",
    "epochs = 50\n",
    "batch_size = 64\n",
    "keep_probability = 0.5\n"
   ]
  },
  {
   "cell_type": "markdown",
   "metadata": {
    "deletable": true,
    "editable": true
   },
   "source": [
    "### Train on a Single CIFAR-10 Batch\n",
    "Instead of training the neural network on all the CIFAR-10 batches of data, let's use a single batch. This should save time while you iterate on the model to get a better accuracy.  Once the final validation accuracy is 50% or greater, run the model on all the data in the next section."
   ]
  },
  {
   "cell_type": "code",
   "execution_count": 16,
   "metadata": {
    "collapsed": false,
    "deletable": true,
    "editable": true
   },
   "outputs": [
    {
     "name": "stdout",
     "output_type": "stream",
     "text": [
      "Checking the Training on a Single Batch...\n",
      "Epoch  1, CIFAR-10 Batch 1:  T_Loss:     2.2235 t_Accuracy: 0.100000 V_Loss:     2.1698 V_Accuracy: 0.215400\n",
      "Epoch  2, CIFAR-10 Batch 1:  T_Loss:     2.0683 t_Accuracy: 0.225000 V_Loss:     1.8909 V_Accuracy: 0.338200\n",
      "Epoch  3, CIFAR-10 Batch 1:  T_Loss:     1.9407 t_Accuracy: 0.250000 V_Loss:     1.7401 V_Accuracy: 0.405000\n",
      "Epoch  4, CIFAR-10 Batch 1:  T_Loss:     1.8379 t_Accuracy: 0.325000 V_Loss:     1.6744 V_Accuracy: 0.433600\n",
      "Epoch  5, CIFAR-10 Batch 1:  T_Loss:     1.7623 t_Accuracy: 0.325000 V_Loss:     1.6041 V_Accuracy: 0.429400\n",
      "Epoch  6, CIFAR-10 Batch 1:  T_Loss:     1.8097 t_Accuracy: 0.375000 V_Loss:     1.5867 V_Accuracy: 0.439000\n",
      "Epoch  7, CIFAR-10 Batch 1:  T_Loss:     1.6400 t_Accuracy: 0.375000 V_Loss:     1.5476 V_Accuracy: 0.467400\n",
      "Epoch  8, CIFAR-10 Batch 1:  T_Loss:     1.5823 t_Accuracy: 0.425000 V_Loss:     1.4990 V_Accuracy: 0.477800\n",
      "Epoch  9, CIFAR-10 Batch 1:  T_Loss:     1.5434 t_Accuracy: 0.450000 V_Loss:     1.4578 V_Accuracy: 0.487600\n",
      "Epoch 10, CIFAR-10 Batch 1:  T_Loss:     1.5507 t_Accuracy: 0.500000 V_Loss:     1.4576 V_Accuracy: 0.486200\n",
      "Epoch 11, CIFAR-10 Batch 1:  T_Loss:     1.4376 t_Accuracy: 0.475000 V_Loss:     1.4157 V_Accuracy: 0.497000\n",
      "Epoch 12, CIFAR-10 Batch 1:  T_Loss:     1.4799 t_Accuracy: 0.525000 V_Loss:     1.4177 V_Accuracy: 0.505800\n",
      "Epoch 13, CIFAR-10 Batch 1:  T_Loss:     1.3988 t_Accuracy: 0.525000 V_Loss:     1.3935 V_Accuracy: 0.505000\n",
      "Epoch 14, CIFAR-10 Batch 1:  T_Loss:     1.3317 t_Accuracy: 0.450000 V_Loss:     1.3913 V_Accuracy: 0.507000\n",
      "Epoch 15, CIFAR-10 Batch 1:  T_Loss:     1.3652 t_Accuracy: 0.425000 V_Loss:     1.3899 V_Accuracy: 0.511200\n",
      "Epoch 16, CIFAR-10 Batch 1:  T_Loss:     1.2516 t_Accuracy: 0.550000 V_Loss:     1.3465 V_Accuracy: 0.526000\n",
      "Epoch 17, CIFAR-10 Batch 1:  T_Loss:     1.2767 t_Accuracy: 0.500000 V_Loss:     1.3554 V_Accuracy: 0.515000\n",
      "Epoch 18, CIFAR-10 Batch 1:  T_Loss:     1.2518 t_Accuracy: 0.525000 V_Loss:     1.3422 V_Accuracy: 0.527400\n",
      "Epoch 19, CIFAR-10 Batch 1:  T_Loss:     1.2447 t_Accuracy: 0.550000 V_Loss:     1.3466 V_Accuracy: 0.532800\n",
      "Epoch 20, CIFAR-10 Batch 1:  T_Loss:     1.2414 t_Accuracy: 0.550000 V_Loss:     1.3507 V_Accuracy: 0.522400\n",
      "Epoch 21, CIFAR-10 Batch 1:  T_Loss:     1.2538 t_Accuracy: 0.550000 V_Loss:     1.3466 V_Accuracy: 0.521800\n",
      "Epoch 22, CIFAR-10 Batch 1:  T_Loss:     1.2021 t_Accuracy: 0.625000 V_Loss:     1.3220 V_Accuracy: 0.531400\n",
      "Epoch 23, CIFAR-10 Batch 1:  T_Loss:     1.2150 t_Accuracy: 0.550000 V_Loss:     1.3606 V_Accuracy: 0.513800\n",
      "Epoch 24, CIFAR-10 Batch 1:  T_Loss:     1.1172 t_Accuracy: 0.600000 V_Loss:     1.2928 V_Accuracy: 0.546000\n",
      "Epoch 25, CIFAR-10 Batch 1:  T_Loss:     1.1074 t_Accuracy: 0.600000 V_Loss:     1.2819 V_Accuracy: 0.553800\n",
      "Epoch 26, CIFAR-10 Batch 1:  T_Loss:     1.1236 t_Accuracy: 0.625000 V_Loss:     1.2768 V_Accuracy: 0.548200\n",
      "Epoch 27, CIFAR-10 Batch 1:  T_Loss:     1.0578 t_Accuracy: 0.625000 V_Loss:     1.2646 V_Accuracy: 0.550400\n",
      "Epoch 28, CIFAR-10 Batch 1:  T_Loss:     1.0421 t_Accuracy: 0.675000 V_Loss:     1.2937 V_Accuracy: 0.542400\n",
      "Epoch 29, CIFAR-10 Batch 1:  T_Loss:     1.1472 t_Accuracy: 0.575000 V_Loss:     1.2925 V_Accuracy: 0.544400\n",
      "Epoch 30, CIFAR-10 Batch 1:  T_Loss:     1.0450 t_Accuracy: 0.675000 V_Loss:     1.2355 V_Accuracy: 0.565800\n",
      "Epoch 31, CIFAR-10 Batch 1:  T_Loss:     1.0263 t_Accuracy: 0.675000 V_Loss:     1.2654 V_Accuracy: 0.553200\n",
      "Epoch 32, CIFAR-10 Batch 1:  T_Loss:     1.0327 t_Accuracy: 0.600000 V_Loss:     1.2361 V_Accuracy: 0.566800\n",
      "Epoch 33, CIFAR-10 Batch 1:  T_Loss:     1.0121 t_Accuracy: 0.600000 V_Loss:     1.2516 V_Accuracy: 0.557200\n",
      "Epoch 34, CIFAR-10 Batch 1:  T_Loss:     0.9474 t_Accuracy: 0.650000 V_Loss:     1.2218 V_Accuracy: 0.578200\n",
      "Epoch 35, CIFAR-10 Batch 1:  T_Loss:     0.9899 t_Accuracy: 0.675000 V_Loss:     1.2517 V_Accuracy: 0.562400\n",
      "Epoch 36, CIFAR-10 Batch 1:  T_Loss:     0.9891 t_Accuracy: 0.700000 V_Loss:     1.2323 V_Accuracy: 0.569200\n",
      "Epoch 37, CIFAR-10 Batch 1:  T_Loss:     0.9916 t_Accuracy: 0.675000 V_Loss:     1.3226 V_Accuracy: 0.542800\n",
      "Epoch 38, CIFAR-10 Batch 1:  T_Loss:     0.9741 t_Accuracy: 0.625000 V_Loss:     1.2269 V_Accuracy: 0.568200\n",
      "Epoch 39, CIFAR-10 Batch 1:  T_Loss:     0.9020 t_Accuracy: 0.700000 V_Loss:     1.2143 V_Accuracy: 0.569600\n",
      "Epoch 40, CIFAR-10 Batch 1:  T_Loss:     0.9598 t_Accuracy: 0.625000 V_Loss:     1.2168 V_Accuracy: 0.573800\n",
      "Epoch 41, CIFAR-10 Batch 1:  T_Loss:     0.8897 t_Accuracy: 0.650000 V_Loss:     1.2093 V_Accuracy: 0.579600\n",
      "Epoch 42, CIFAR-10 Batch 1:  T_Loss:     0.9187 t_Accuracy: 0.600000 V_Loss:     1.2579 V_Accuracy: 0.562600\n",
      "Epoch 43, CIFAR-10 Batch 1:  T_Loss:     0.9282 t_Accuracy: 0.650000 V_Loss:     1.2376 V_Accuracy: 0.572400\n",
      "Epoch 44, CIFAR-10 Batch 1:  T_Loss:     0.9088 t_Accuracy: 0.725000 V_Loss:     1.2221 V_Accuracy: 0.573200\n",
      "Epoch 45, CIFAR-10 Batch 1:  T_Loss:     0.8332 t_Accuracy: 0.675000 V_Loss:     1.2141 V_Accuracy: 0.570000\n",
      "Epoch 46, CIFAR-10 Batch 1:  T_Loss:     0.8964 t_Accuracy: 0.650000 V_Loss:     1.2436 V_Accuracy: 0.565800\n",
      "Epoch 47, CIFAR-10 Batch 1:  T_Loss:     0.8335 t_Accuracy: 0.700000 V_Loss:     1.2168 V_Accuracy: 0.579200\n",
      "Epoch 48, CIFAR-10 Batch 1:  T_Loss:     0.8875 t_Accuracy: 0.700000 V_Loss:     1.2073 V_Accuracy: 0.577200\n",
      "Epoch 49, CIFAR-10 Batch 1:  T_Loss:     0.8106 t_Accuracy: 0.700000 V_Loss:     1.2036 V_Accuracy: 0.570600\n",
      "Epoch 50, CIFAR-10 Batch 1:  T_Loss:     0.8525 t_Accuracy: 0.725000 V_Loss:     1.2699 V_Accuracy: 0.550800\n"
     ]
    }
   ],
   "source": [
    "\"\"\"\n",
    "DON'T MODIFY ANYTHING IN THIS CELL\n",
    "\"\"\"\n",
    "print('Checking the Training on a Single Batch...')\n",
    "with tf.Session() as sess:\n",
    "    # Initializing the variables\n",
    "    sess.run(tf.global_variables_initializer())\n",
    "\n",
    "\n",
    "    # Training cycle\n",
    "    for epoch in range(epochs):\n",
    "        batch_i = 1\n",
    "        for batch_features, batch_labels in helper.load_preprocess_training_batch(batch_i, batch_size):\n",
    "            train_neural_network(sess, optimizer, keep_probability, batch_features, batch_labels)\n",
    "        print('Epoch {:>2}, CIFAR-10 Batch {}:  '.format(epoch + 1, batch_i), end='')\n",
    "        print_stats(sess, batch_features, batch_labels, cost, accuracy)"
   ]
  },
  {
   "cell_type": "markdown",
   "metadata": {
    "deletable": true,
    "editable": true
   },
   "source": [
    "### Fully Train the Model\n",
    "Now that you got a good accuracy with a single CIFAR-10 batch, try it with all five batches."
   ]
  },
  {
   "cell_type": "code",
   "execution_count": 17,
   "metadata": {
    "collapsed": false,
    "deletable": true,
    "editable": true
   },
   "outputs": [
    {
     "name": "stdout",
     "output_type": "stream",
     "text": [
      "Training...\n",
      "Epoch  1, CIFAR-10 Batch 1:  T_Loss:     2.1528 t_Accuracy: 0.200000 V_Loss:     2.0676 V_Accuracy: 0.297800\n",
      "Epoch  1, CIFAR-10 Batch 2:  T_Loss:     1.8965 t_Accuracy: 0.300000 V_Loss:     1.9036 V_Accuracy: 0.297400\n",
      "Epoch  1, CIFAR-10 Batch 3:  T_Loss:     1.4988 t_Accuracy: 0.600000 V_Loss:     1.6767 V_Accuracy: 0.401400\n",
      "Epoch  1, CIFAR-10 Batch 4:  T_Loss:     1.7021 t_Accuracy: 0.275000 V_Loss:     1.6269 V_Accuracy: 0.441200\n",
      "Epoch  1, CIFAR-10 Batch 5:  T_Loss:     1.6744 t_Accuracy: 0.500000 V_Loss:     1.6087 V_Accuracy: 0.444600\n",
      "Epoch  2, CIFAR-10 Batch 1:  T_Loss:     1.6548 t_Accuracy: 0.425000 V_Loss:     1.5375 V_Accuracy: 0.476200\n",
      "Epoch  2, CIFAR-10 Batch 2:  T_Loss:     1.6617 t_Accuracy: 0.400000 V_Loss:     1.5432 V_Accuracy: 0.464400\n",
      "Epoch  2, CIFAR-10 Batch 3:  T_Loss:     1.3685 t_Accuracy: 0.525000 V_Loss:     1.4892 V_Accuracy: 0.473800\n",
      "Epoch  2, CIFAR-10 Batch 4:  T_Loss:     1.5951 t_Accuracy: 0.350000 V_Loss:     1.5312 V_Accuracy: 0.476800\n",
      "Epoch  2, CIFAR-10 Batch 5:  T_Loss:     1.5530 t_Accuracy: 0.475000 V_Loss:     1.4419 V_Accuracy: 0.498800\n",
      "Epoch  3, CIFAR-10 Batch 1:  T_Loss:     1.5164 t_Accuracy: 0.500000 V_Loss:     1.4555 V_Accuracy: 0.508400\n",
      "Epoch  3, CIFAR-10 Batch 2:  T_Loss:     1.5600 t_Accuracy: 0.375000 V_Loss:     1.4534 V_Accuracy: 0.500000\n",
      "Epoch  3, CIFAR-10 Batch 3:  T_Loss:     1.3244 t_Accuracy: 0.575000 V_Loss:     1.4361 V_Accuracy: 0.499400\n",
      "Epoch  3, CIFAR-10 Batch 4:  T_Loss:     1.4557 t_Accuracy: 0.400000 V_Loss:     1.4036 V_Accuracy: 0.521800\n",
      "Epoch  3, CIFAR-10 Batch 5:  T_Loss:     1.5475 t_Accuracy: 0.500000 V_Loss:     1.4209 V_Accuracy: 0.511600\n",
      "Epoch  4, CIFAR-10 Batch 1:  T_Loss:     1.3927 t_Accuracy: 0.600000 V_Loss:     1.3837 V_Accuracy: 0.532600\n",
      "Epoch  4, CIFAR-10 Batch 2:  T_Loss:     1.4618 t_Accuracy: 0.425000 V_Loss:     1.3578 V_Accuracy: 0.535600\n",
      "Epoch  4, CIFAR-10 Batch 3:  T_Loss:     1.1553 t_Accuracy: 0.575000 V_Loss:     1.3548 V_Accuracy: 0.533200\n",
      "Epoch  4, CIFAR-10 Batch 4:  T_Loss:     1.4600 t_Accuracy: 0.350000 V_Loss:     1.3387 V_Accuracy: 0.532600\n",
      "Epoch  4, CIFAR-10 Batch 5:  T_Loss:     1.4550 t_Accuracy: 0.625000 V_Loss:     1.3608 V_Accuracy: 0.536000\n",
      "Epoch  5, CIFAR-10 Batch 1:  T_Loss:     1.3288 t_Accuracy: 0.525000 V_Loss:     1.3325 V_Accuracy: 0.552800\n",
      "Epoch  5, CIFAR-10 Batch 2:  T_Loss:     1.3881 t_Accuracy: 0.425000 V_Loss:     1.3111 V_Accuracy: 0.545400\n",
      "Epoch  5, CIFAR-10 Batch 3:  T_Loss:     1.1432 t_Accuracy: 0.600000 V_Loss:     1.3255 V_Accuracy: 0.529400\n",
      "Epoch  5, CIFAR-10 Batch 4:  T_Loss:     1.3199 t_Accuracy: 0.550000 V_Loss:     1.3576 V_Accuracy: 0.542200\n",
      "Epoch  5, CIFAR-10 Batch 5:  T_Loss:     1.3882 t_Accuracy: 0.525000 V_Loss:     1.3274 V_Accuracy: 0.552600\n",
      "Epoch  6, CIFAR-10 Batch 1:  T_Loss:     1.2411 t_Accuracy: 0.575000 V_Loss:     1.2801 V_Accuracy: 0.564200\n",
      "Epoch  6, CIFAR-10 Batch 2:  T_Loss:     1.2932 t_Accuracy: 0.525000 V_Loss:     1.2743 V_Accuracy: 0.562000\n",
      "Epoch  6, CIFAR-10 Batch 3:  T_Loss:     1.1408 t_Accuracy: 0.550000 V_Loss:     1.2552 V_Accuracy: 0.560800\n",
      "Epoch  6, CIFAR-10 Batch 4:  T_Loss:     1.2753 t_Accuracy: 0.575000 V_Loss:     1.2484 V_Accuracy: 0.573400\n",
      "Epoch  6, CIFAR-10 Batch 5:  T_Loss:     1.3158 t_Accuracy: 0.500000 V_Loss:     1.3051 V_Accuracy: 0.555800\n",
      "Epoch  7, CIFAR-10 Batch 1:  T_Loss:     1.3154 t_Accuracy: 0.500000 V_Loss:     1.2470 V_Accuracy: 0.578600\n",
      "Epoch  7, CIFAR-10 Batch 2:  T_Loss:     1.2336 t_Accuracy: 0.575000 V_Loss:     1.2542 V_Accuracy: 0.574400\n",
      "Epoch  7, CIFAR-10 Batch 3:  T_Loss:     1.0385 t_Accuracy: 0.675000 V_Loss:     1.2206 V_Accuracy: 0.575600\n",
      "Epoch  7, CIFAR-10 Batch 4:  T_Loss:     1.2335 t_Accuracy: 0.525000 V_Loss:     1.2364 V_Accuracy: 0.579000\n",
      "Epoch  7, CIFAR-10 Batch 5:  T_Loss:     1.2566 t_Accuracy: 0.575000 V_Loss:     1.2257 V_Accuracy: 0.581600\n",
      "Epoch  8, CIFAR-10 Batch 1:  T_Loss:     1.2071 t_Accuracy: 0.600000 V_Loss:     1.2222 V_Accuracy: 0.584400\n",
      "Epoch  8, CIFAR-10 Batch 2:  T_Loss:     1.1673 t_Accuracy: 0.550000 V_Loss:     1.2059 V_Accuracy: 0.593800\n",
      "Epoch  8, CIFAR-10 Batch 3:  T_Loss:     1.0077 t_Accuracy: 0.625000 V_Loss:     1.1792 V_Accuracy: 0.585600\n",
      "Epoch  8, CIFAR-10 Batch 4:  T_Loss:     1.2076 t_Accuracy: 0.425000 V_Loss:     1.2218 V_Accuracy: 0.588000\n",
      "Epoch  8, CIFAR-10 Batch 5:  T_Loss:     1.2841 t_Accuracy: 0.525000 V_Loss:     1.2571 V_Accuracy: 0.567600\n",
      "Epoch  9, CIFAR-10 Batch 1:  T_Loss:     1.2127 t_Accuracy: 0.525000 V_Loss:     1.2045 V_Accuracy: 0.587800\n",
      "Epoch  9, CIFAR-10 Batch 2:  T_Loss:     1.1526 t_Accuracy: 0.600000 V_Loss:     1.1797 V_Accuracy: 0.597000\n",
      "Epoch  9, CIFAR-10 Batch 3:  T_Loss:     0.9797 t_Accuracy: 0.625000 V_Loss:     1.1707 V_Accuracy: 0.594600\n",
      "Epoch  9, CIFAR-10 Batch 4:  T_Loss:     1.1419 t_Accuracy: 0.500000 V_Loss:     1.1754 V_Accuracy: 0.603600\n",
      "Epoch  9, CIFAR-10 Batch 5:  T_Loss:     1.2117 t_Accuracy: 0.550000 V_Loss:     1.1988 V_Accuracy: 0.593600\n",
      "Epoch 10, CIFAR-10 Batch 1:  T_Loss:     1.2805 t_Accuracy: 0.500000 V_Loss:     1.1703 V_Accuracy: 0.597200\n",
      "Epoch 10, CIFAR-10 Batch 2:  T_Loss:     1.1989 t_Accuracy: 0.550000 V_Loss:     1.1722 V_Accuracy: 0.592800\n",
      "Epoch 10, CIFAR-10 Batch 3:  T_Loss:     0.9776 t_Accuracy: 0.700000 V_Loss:     1.1645 V_Accuracy: 0.585000\n",
      "Epoch 10, CIFAR-10 Batch 4:  T_Loss:     1.1562 t_Accuracy: 0.500000 V_Loss:     1.1637 V_Accuracy: 0.602200\n",
      "Epoch 10, CIFAR-10 Batch 5:  T_Loss:     1.1894 t_Accuracy: 0.525000 V_Loss:     1.1992 V_Accuracy: 0.579200\n",
      "Epoch 11, CIFAR-10 Batch 1:  T_Loss:     1.1764 t_Accuracy: 0.575000 V_Loss:     1.1356 V_Accuracy: 0.614800\n",
      "Epoch 11, CIFAR-10 Batch 2:  T_Loss:     1.1166 t_Accuracy: 0.575000 V_Loss:     1.1369 V_Accuracy: 0.616200\n",
      "Epoch 11, CIFAR-10 Batch 3:  T_Loss:     0.9037 t_Accuracy: 0.700000 V_Loss:     1.1278 V_Accuracy: 0.609400\n",
      "Epoch 11, CIFAR-10 Batch 4:  T_Loss:     1.1112 t_Accuracy: 0.600000 V_Loss:     1.1590 V_Accuracy: 0.605600\n",
      "Epoch 11, CIFAR-10 Batch 5:  T_Loss:     1.1639 t_Accuracy: 0.550000 V_Loss:     1.1461 V_Accuracy: 0.601400\n",
      "Epoch 12, CIFAR-10 Batch 1:  T_Loss:     1.1601 t_Accuracy: 0.500000 V_Loss:     1.1294 V_Accuracy: 0.616600\n",
      "Epoch 12, CIFAR-10 Batch 2:  T_Loss:     1.0691 t_Accuracy: 0.575000 V_Loss:     1.1329 V_Accuracy: 0.624400\n",
      "Epoch 12, CIFAR-10 Batch 3:  T_Loss:     0.9302 t_Accuracy: 0.625000 V_Loss:     1.1806 V_Accuracy: 0.581400\n",
      "Epoch 12, CIFAR-10 Batch 4:  T_Loss:     1.1301 t_Accuracy: 0.600000 V_Loss:     1.1496 V_Accuracy: 0.615400\n",
      "Epoch 12, CIFAR-10 Batch 5:  T_Loss:     1.1282 t_Accuracy: 0.550000 V_Loss:     1.1156 V_Accuracy: 0.618600\n",
      "Epoch 13, CIFAR-10 Batch 1:  T_Loss:     1.1842 t_Accuracy: 0.500000 V_Loss:     1.1589 V_Accuracy: 0.600800\n",
      "Epoch 13, CIFAR-10 Batch 2:  T_Loss:     1.1764 t_Accuracy: 0.575000 V_Loss:     1.1182 V_Accuracy: 0.622600\n",
      "Epoch 13, CIFAR-10 Batch 3:  T_Loss:     0.8643 t_Accuracy: 0.725000 V_Loss:     1.1073 V_Accuracy: 0.619000\n",
      "Epoch 13, CIFAR-10 Batch 4:  T_Loss:     1.1739 t_Accuracy: 0.525000 V_Loss:     1.1337 V_Accuracy: 0.619800\n",
      "Epoch 13, CIFAR-10 Batch 5:  T_Loss:     1.1682 t_Accuracy: 0.525000 V_Loss:     1.1420 V_Accuracy: 0.602200\n",
      "Epoch 14, CIFAR-10 Batch 1:  T_Loss:     1.1491 t_Accuracy: 0.550000 V_Loss:     1.1457 V_Accuracy: 0.606200\n",
      "Epoch 14, CIFAR-10 Batch 2:  T_Loss:     1.1076 t_Accuracy: 0.550000 V_Loss:     1.1134 V_Accuracy: 0.626000\n",
      "Epoch 14, CIFAR-10 Batch 3:  T_Loss:     0.8466 t_Accuracy: 0.700000 V_Loss:     1.1050 V_Accuracy: 0.605000\n",
      "Epoch 14, CIFAR-10 Batch 4:  T_Loss:     1.0632 t_Accuracy: 0.600000 V_Loss:     1.1074 V_Accuracy: 0.628000\n",
      "Epoch 14, CIFAR-10 Batch 5:  T_Loss:     1.0571 t_Accuracy: 0.600000 V_Loss:     1.1638 V_Accuracy: 0.593600\n",
      "Epoch 15, CIFAR-10 Batch 1:  T_Loss:     1.1095 t_Accuracy: 0.525000 V_Loss:     1.0993 V_Accuracy: 0.624800\n",
      "Epoch 15, CIFAR-10 Batch 2:  T_Loss:     1.0435 t_Accuracy: 0.650000 V_Loss:     1.0776 V_Accuracy: 0.626600\n",
      "Epoch 15, CIFAR-10 Batch 3:  T_Loss:     0.7773 t_Accuracy: 0.750000 V_Loss:     1.0613 V_Accuracy: 0.634600\n",
      "Epoch 15, CIFAR-10 Batch 4:  T_Loss:     1.0343 t_Accuracy: 0.575000 V_Loss:     1.1125 V_Accuracy: 0.632000\n",
      "Epoch 15, CIFAR-10 Batch 5:  T_Loss:     1.1059 t_Accuracy: 0.525000 V_Loss:     1.1055 V_Accuracy: 0.624800\n",
      "Epoch 16, CIFAR-10 Batch 1:  T_Loss:     1.0981 t_Accuracy: 0.575000 V_Loss:     1.0871 V_Accuracy: 0.624400\n",
      "Epoch 16, CIFAR-10 Batch 2:  T_Loss:     1.0328 t_Accuracy: 0.550000 V_Loss:     1.1147 V_Accuracy: 0.618200\n",
      "Epoch 16, CIFAR-10 Batch 3:  T_Loss:     0.8148 t_Accuracy: 0.700000 V_Loss:     1.0522 V_Accuracy: 0.639400\n",
      "Epoch 16, CIFAR-10 Batch 4:  T_Loss:     1.0197 t_Accuracy: 0.500000 V_Loss:     1.0675 V_Accuracy: 0.637400\n",
      "Epoch 16, CIFAR-10 Batch 5:  T_Loss:     1.1068 t_Accuracy: 0.575000 V_Loss:     1.1243 V_Accuracy: 0.616400\n",
      "Epoch 17, CIFAR-10 Batch 1:  T_Loss:     1.1361 t_Accuracy: 0.550000 V_Loss:     1.1141 V_Accuracy: 0.615800\n",
      "Epoch 17, CIFAR-10 Batch 2:  T_Loss:     1.0136 t_Accuracy: 0.575000 V_Loss:     1.0973 V_Accuracy: 0.629400\n",
      "Epoch 17, CIFAR-10 Batch 3:  T_Loss:     0.8268 t_Accuracy: 0.675000 V_Loss:     1.0655 V_Accuracy: 0.633000\n",
      "Epoch 17, CIFAR-10 Batch 4:  T_Loss:     1.0410 t_Accuracy: 0.525000 V_Loss:     1.0883 V_Accuracy: 0.630800\n",
      "Epoch 17, CIFAR-10 Batch 5:  T_Loss:     1.0187 t_Accuracy: 0.650000 V_Loss:     1.0787 V_Accuracy: 0.625400\n",
      "Epoch 18, CIFAR-10 Batch 1:  T_Loss:     1.0889 t_Accuracy: 0.575000 V_Loss:     1.0915 V_Accuracy: 0.626000\n",
      "Epoch 18, CIFAR-10 Batch 2:  T_Loss:     0.9361 t_Accuracy: 0.625000 V_Loss:     1.0605 V_Accuracy: 0.634000\n",
      "Epoch 18, CIFAR-10 Batch 3:  T_Loss:     0.7440 t_Accuracy: 0.675000 V_Loss:     1.0507 V_Accuracy: 0.635600\n",
      "Epoch 18, CIFAR-10 Batch 4:  T_Loss:     1.0416 t_Accuracy: 0.575000 V_Loss:     1.0907 V_Accuracy: 0.631200\n",
      "Epoch 18, CIFAR-10 Batch 5:  T_Loss:     0.9667 t_Accuracy: 0.625000 V_Loss:     1.0567 V_Accuracy: 0.646400\n",
      "Epoch 19, CIFAR-10 Batch 1:  T_Loss:     1.1198 t_Accuracy: 0.575000 V_Loss:     1.0513 V_Accuracy: 0.640000\n",
      "Epoch 19, CIFAR-10 Batch 2:  T_Loss:     1.0386 t_Accuracy: 0.575000 V_Loss:     1.0606 V_Accuracy: 0.631800\n",
      "Epoch 19, CIFAR-10 Batch 3:  T_Loss:     0.7319 t_Accuracy: 0.775000 V_Loss:     1.0457 V_Accuracy: 0.631600\n",
      "Epoch 19, CIFAR-10 Batch 4:  T_Loss:     0.9779 t_Accuracy: 0.675000 V_Loss:     1.0698 V_Accuracy: 0.638000\n",
      "Epoch 19, CIFAR-10 Batch 5:  T_Loss:     1.0044 t_Accuracy: 0.625000 V_Loss:     1.0685 V_Accuracy: 0.638200\n",
      "Epoch 20, CIFAR-10 Batch 1:  T_Loss:     1.1096 t_Accuracy: 0.475000 V_Loss:     1.0689 V_Accuracy: 0.636600\n",
      "Epoch 20, CIFAR-10 Batch 2:  T_Loss:     0.9658 t_Accuracy: 0.675000 V_Loss:     1.0595 V_Accuracy: 0.640400\n",
      "Epoch 20, CIFAR-10 Batch 3:  T_Loss:     0.7516 t_Accuracy: 0.825000 V_Loss:     1.0467 V_Accuracy: 0.634600\n",
      "Epoch 20, CIFAR-10 Batch 4:  T_Loss:     1.0093 t_Accuracy: 0.600000 V_Loss:     1.0516 V_Accuracy: 0.646800\n",
      "Epoch 20, CIFAR-10 Batch 5:  T_Loss:     1.0307 t_Accuracy: 0.600000 V_Loss:     1.0550 V_Accuracy: 0.641400\n",
      "Epoch 21, CIFAR-10 Batch 1:  T_Loss:     1.0425 t_Accuracy: 0.550000 V_Loss:     1.0483 V_Accuracy: 0.640600\n",
      "Epoch 21, CIFAR-10 Batch 2:  T_Loss:     0.9336 t_Accuracy: 0.625000 V_Loss:     1.0470 V_Accuracy: 0.646800\n",
      "Epoch 21, CIFAR-10 Batch 3:  T_Loss:     0.7200 t_Accuracy: 0.775000 V_Loss:     1.0380 V_Accuracy: 0.651000\n",
      "Epoch 21, CIFAR-10 Batch 4:  T_Loss:     0.9979 t_Accuracy: 0.650000 V_Loss:     1.0463 V_Accuracy: 0.644800\n",
      "Epoch 21, CIFAR-10 Batch 5:  T_Loss:     0.9980 t_Accuracy: 0.625000 V_Loss:     1.0396 V_Accuracy: 0.647400\n",
      "Epoch 22, CIFAR-10 Batch 1:  T_Loss:     1.1065 t_Accuracy: 0.650000 V_Loss:     1.0631 V_Accuracy: 0.643000\n",
      "Epoch 22, CIFAR-10 Batch 2:  T_Loss:     0.9726 t_Accuracy: 0.600000 V_Loss:     1.0395 V_Accuracy: 0.646000\n",
      "Epoch 22, CIFAR-10 Batch 3:  T_Loss:     0.8495 t_Accuracy: 0.700000 V_Loss:     1.0454 V_Accuracy: 0.643000\n",
      "Epoch 22, CIFAR-10 Batch 4:  T_Loss:     0.9709 t_Accuracy: 0.675000 V_Loss:     1.0648 V_Accuracy: 0.631600\n",
      "Epoch 22, CIFAR-10 Batch 5:  T_Loss:     0.9507 t_Accuracy: 0.650000 V_Loss:     1.0391 V_Accuracy: 0.660400\n",
      "Epoch 23, CIFAR-10 Batch 1:  T_Loss:     1.0873 t_Accuracy: 0.575000 V_Loss:     1.0495 V_Accuracy: 0.643800\n",
      "Epoch 23, CIFAR-10 Batch 2:  T_Loss:     0.9463 t_Accuracy: 0.575000 V_Loss:     1.0146 V_Accuracy: 0.660200\n",
      "Epoch 23, CIFAR-10 Batch 3:  T_Loss:     0.7408 t_Accuracy: 0.800000 V_Loss:     1.0340 V_Accuracy: 0.638200\n",
      "Epoch 23, CIFAR-10 Batch 4:  T_Loss:     0.9549 t_Accuracy: 0.550000 V_Loss:     1.0276 V_Accuracy: 0.647800\n",
      "Epoch 23, CIFAR-10 Batch 5:  T_Loss:     0.9111 t_Accuracy: 0.675000 V_Loss:     1.0405 V_Accuracy: 0.650600\n",
      "Epoch 24, CIFAR-10 Batch 1:  T_Loss:     1.0581 t_Accuracy: 0.525000 V_Loss:     1.0219 V_Accuracy: 0.653600\n",
      "Epoch 24, CIFAR-10 Batch 2:  T_Loss:     0.9549 t_Accuracy: 0.650000 V_Loss:     1.0212 V_Accuracy: 0.643200\n",
      "Epoch 24, CIFAR-10 Batch 3:  T_Loss:     0.7346 t_Accuracy: 0.725000 V_Loss:     1.0300 V_Accuracy: 0.644800\n",
      "Epoch 24, CIFAR-10 Batch 4:  T_Loss:     0.9703 t_Accuracy: 0.575000 V_Loss:     1.0532 V_Accuracy: 0.637200\n",
      "Epoch 24, CIFAR-10 Batch 5:  T_Loss:     0.9640 t_Accuracy: 0.625000 V_Loss:     1.0165 V_Accuracy: 0.661400\n",
      "Epoch 25, CIFAR-10 Batch 1:  T_Loss:     1.0748 t_Accuracy: 0.625000 V_Loss:     1.0328 V_Accuracy: 0.647800\n",
      "Epoch 25, CIFAR-10 Batch 2:  T_Loss:     0.9825 t_Accuracy: 0.675000 V_Loss:     1.0659 V_Accuracy: 0.639400\n",
      "Epoch 25, CIFAR-10 Batch 3:  T_Loss:     0.7128 t_Accuracy: 0.825000 V_Loss:     1.0246 V_Accuracy: 0.649200\n",
      "Epoch 25, CIFAR-10 Batch 4:  T_Loss:     0.8964 t_Accuracy: 0.550000 V_Loss:     1.0097 V_Accuracy: 0.658200\n",
      "Epoch 25, CIFAR-10 Batch 5:  T_Loss:     0.9006 t_Accuracy: 0.700000 V_Loss:     1.0430 V_Accuracy: 0.645000\n",
      "Epoch 26, CIFAR-10 Batch 1:  T_Loss:     0.9264 t_Accuracy: 0.700000 V_Loss:     1.0189 V_Accuracy: 0.657200\n",
      "Epoch 26, CIFAR-10 Batch 2:  T_Loss:     0.9222 t_Accuracy: 0.650000 V_Loss:     1.0249 V_Accuracy: 0.649000\n",
      "Epoch 26, CIFAR-10 Batch 3:  T_Loss:     0.7326 t_Accuracy: 0.850000 V_Loss:     1.0139 V_Accuracy: 0.649800\n",
      "Epoch 26, CIFAR-10 Batch 4:  T_Loss:     0.9920 t_Accuracy: 0.600000 V_Loss:     1.0350 V_Accuracy: 0.650800\n",
      "Epoch 26, CIFAR-10 Batch 5:  T_Loss:     0.8884 t_Accuracy: 0.675000 V_Loss:     1.0236 V_Accuracy: 0.647600\n",
      "Epoch 27, CIFAR-10 Batch 1:  T_Loss:     1.0789 t_Accuracy: 0.700000 V_Loss:     1.0290 V_Accuracy: 0.646200\n",
      "Epoch 27, CIFAR-10 Batch 2:  T_Loss:     0.9222 t_Accuracy: 0.650000 V_Loss:     1.0119 V_Accuracy: 0.658800\n",
      "Epoch 27, CIFAR-10 Batch 3:  T_Loss:     0.7404 t_Accuracy: 0.775000 V_Loss:     1.0136 V_Accuracy: 0.650800\n",
      "Epoch 27, CIFAR-10 Batch 4:  T_Loss:     0.9175 t_Accuracy: 0.625000 V_Loss:     1.0122 V_Accuracy: 0.661400\n",
      "Epoch 27, CIFAR-10 Batch 5:  T_Loss:     0.9330 t_Accuracy: 0.725000 V_Loss:     1.0439 V_Accuracy: 0.654000\n",
      "Epoch 28, CIFAR-10 Batch 1:  T_Loss:     0.9876 t_Accuracy: 0.600000 V_Loss:     0.9965 V_Accuracy: 0.660600\n",
      "Epoch 28, CIFAR-10 Batch 2:  T_Loss:     0.8666 t_Accuracy: 0.600000 V_Loss:     1.0074 V_Accuracy: 0.661000\n",
      "Epoch 28, CIFAR-10 Batch 3:  T_Loss:     0.6826 t_Accuracy: 0.825000 V_Loss:     1.0267 V_Accuracy: 0.653400\n",
      "Epoch 28, CIFAR-10 Batch 4:  T_Loss:     0.9233 t_Accuracy: 0.675000 V_Loss:     1.0147 V_Accuracy: 0.651600\n",
      "Epoch 28, CIFAR-10 Batch 5:  T_Loss:     0.8125 t_Accuracy: 0.650000 V_Loss:     1.0170 V_Accuracy: 0.646400\n",
      "Epoch 29, CIFAR-10 Batch 1:  T_Loss:     1.0596 t_Accuracy: 0.575000 V_Loss:     1.0423 V_Accuracy: 0.635800\n",
      "Epoch 29, CIFAR-10 Batch 2:  T_Loss:     1.0126 t_Accuracy: 0.675000 V_Loss:     1.0143 V_Accuracy: 0.652000\n",
      "Epoch 29, CIFAR-10 Batch 3:  T_Loss:     0.7227 t_Accuracy: 0.750000 V_Loss:     1.0145 V_Accuracy: 0.651200\n",
      "Epoch 29, CIFAR-10 Batch 4:  T_Loss:     0.9197 t_Accuracy: 0.650000 V_Loss:     0.9974 V_Accuracy: 0.665000\n",
      "Epoch 29, CIFAR-10 Batch 5:  T_Loss:     0.7783 t_Accuracy: 0.725000 V_Loss:     1.0057 V_Accuracy: 0.651000\n",
      "Epoch 30, CIFAR-10 Batch 1:  T_Loss:     1.0188 t_Accuracy: 0.750000 V_Loss:     0.9876 V_Accuracy: 0.662000\n",
      "Epoch 30, CIFAR-10 Batch 2:  T_Loss:     0.8806 t_Accuracy: 0.650000 V_Loss:     1.0058 V_Accuracy: 0.657200\n",
      "Epoch 30, CIFAR-10 Batch 3:  T_Loss:     0.7065 t_Accuracy: 0.825000 V_Loss:     1.0160 V_Accuracy: 0.662600\n",
      "Epoch 30, CIFAR-10 Batch 4:  T_Loss:     0.8618 t_Accuracy: 0.725000 V_Loss:     1.0137 V_Accuracy: 0.660800\n",
      "Epoch 30, CIFAR-10 Batch 5:  T_Loss:     0.7819 t_Accuracy: 0.700000 V_Loss:     0.9759 V_Accuracy: 0.673200\n",
      "Epoch 31, CIFAR-10 Batch 1:  T_Loss:     1.0229 t_Accuracy: 0.600000 V_Loss:     1.0090 V_Accuracy: 0.648600\n",
      "Epoch 31, CIFAR-10 Batch 2:  T_Loss:     0.8863 t_Accuracy: 0.675000 V_Loss:     0.9957 V_Accuracy: 0.656200\n",
      "Epoch 31, CIFAR-10 Batch 3:  T_Loss:     0.6375 t_Accuracy: 0.750000 V_Loss:     0.9875 V_Accuracy: 0.662400\n",
      "Epoch 31, CIFAR-10 Batch 4:  T_Loss:     0.8660 t_Accuracy: 0.625000 V_Loss:     1.0022 V_Accuracy: 0.660200\n",
      "Epoch 31, CIFAR-10 Batch 5:  T_Loss:     0.8975 t_Accuracy: 0.675000 V_Loss:     1.0024 V_Accuracy: 0.657000\n",
      "Epoch 32, CIFAR-10 Batch 1:  T_Loss:     1.0045 t_Accuracy: 0.600000 V_Loss:     0.9952 V_Accuracy: 0.659600\n",
      "Epoch 32, CIFAR-10 Batch 2:  T_Loss:     0.8465 t_Accuracy: 0.625000 V_Loss:     0.9815 V_Accuracy: 0.676800\n",
      "Epoch 32, CIFAR-10 Batch 3:  T_Loss:     0.6455 t_Accuracy: 0.800000 V_Loss:     0.9749 V_Accuracy: 0.666200\n",
      "Epoch 32, CIFAR-10 Batch 4:  T_Loss:     0.8178 t_Accuracy: 0.700000 V_Loss:     0.9938 V_Accuracy: 0.669000\n",
      "Epoch 32, CIFAR-10 Batch 5:  T_Loss:     0.8293 t_Accuracy: 0.650000 V_Loss:     0.9978 V_Accuracy: 0.666200\n",
      "Epoch 33, CIFAR-10 Batch 1:  T_Loss:     1.0149 t_Accuracy: 0.550000 V_Loss:     1.0050 V_Accuracy: 0.655200\n",
      "Epoch 33, CIFAR-10 Batch 2:  T_Loss:     0.8099 t_Accuracy: 0.650000 V_Loss:     0.9832 V_Accuracy: 0.656000\n",
      "Epoch 33, CIFAR-10 Batch 3:  T_Loss:     0.6653 t_Accuracy: 0.800000 V_Loss:     0.9785 V_Accuracy: 0.668200\n",
      "Epoch 33, CIFAR-10 Batch 4:  T_Loss:     0.8445 t_Accuracy: 0.675000 V_Loss:     0.9930 V_Accuracy: 0.664800\n",
      "Epoch 33, CIFAR-10 Batch 5:  T_Loss:     0.8048 t_Accuracy: 0.650000 V_Loss:     0.9931 V_Accuracy: 0.666600\n",
      "Epoch 34, CIFAR-10 Batch 1:  T_Loss:     1.0203 t_Accuracy: 0.575000 V_Loss:     1.0306 V_Accuracy: 0.637000\n",
      "Epoch 34, CIFAR-10 Batch 2:  T_Loss:     0.8376 t_Accuracy: 0.725000 V_Loss:     0.9879 V_Accuracy: 0.657600\n",
      "Epoch 34, CIFAR-10 Batch 3:  T_Loss:     0.6036 t_Accuracy: 0.850000 V_Loss:     0.9685 V_Accuracy: 0.674000\n",
      "Epoch 34, CIFAR-10 Batch 4:  T_Loss:     0.8638 t_Accuracy: 0.700000 V_Loss:     0.9871 V_Accuracy: 0.666400\n",
      "Epoch 34, CIFAR-10 Batch 5:  T_Loss:     0.9153 t_Accuracy: 0.675000 V_Loss:     1.0283 V_Accuracy: 0.656200\n",
      "Epoch 35, CIFAR-10 Batch 1:  T_Loss:     0.9122 t_Accuracy: 0.675000 V_Loss:     0.9812 V_Accuracy: 0.667800\n",
      "Epoch 35, CIFAR-10 Batch 2:  T_Loss:     0.8323 t_Accuracy: 0.725000 V_Loss:     0.9652 V_Accuracy: 0.669400\n",
      "Epoch 35, CIFAR-10 Batch 3:  T_Loss:     0.5656 t_Accuracy: 0.875000 V_Loss:     0.9649 V_Accuracy: 0.675400\n",
      "Epoch 35, CIFAR-10 Batch 4:  T_Loss:     0.8182 t_Accuracy: 0.700000 V_Loss:     0.9716 V_Accuracy: 0.678800\n",
      "Epoch 35, CIFAR-10 Batch 5:  T_Loss:     0.8140 t_Accuracy: 0.625000 V_Loss:     0.9751 V_Accuracy: 0.675000\n",
      "Epoch 36, CIFAR-10 Batch 1:  T_Loss:     0.9486 t_Accuracy: 0.650000 V_Loss:     0.9823 V_Accuracy: 0.666600\n",
      "Epoch 36, CIFAR-10 Batch 2:  T_Loss:     0.8719 t_Accuracy: 0.625000 V_Loss:     0.9949 V_Accuracy: 0.657000\n",
      "Epoch 36, CIFAR-10 Batch 3:  T_Loss:     0.6139 t_Accuracy: 0.875000 V_Loss:     0.9805 V_Accuracy: 0.659200\n",
      "Epoch 36, CIFAR-10 Batch 4:  T_Loss:     0.7924 t_Accuracy: 0.675000 V_Loss:     0.9712 V_Accuracy: 0.672600\n",
      "Epoch 36, CIFAR-10 Batch 5:  T_Loss:     0.8003 t_Accuracy: 0.700000 V_Loss:     0.9861 V_Accuracy: 0.667000\n",
      "Epoch 37, CIFAR-10 Batch 1:  T_Loss:     0.9005 t_Accuracy: 0.650000 V_Loss:     0.9878 V_Accuracy: 0.667600\n",
      "Epoch 37, CIFAR-10 Batch 2:  T_Loss:     0.8309 t_Accuracy: 0.700000 V_Loss:     0.9723 V_Accuracy: 0.666000\n",
      "Epoch 37, CIFAR-10 Batch 3:  T_Loss:     0.6755 t_Accuracy: 0.825000 V_Loss:     0.9976 V_Accuracy: 0.660200\n",
      "Epoch 37, CIFAR-10 Batch 4:  T_Loss:     0.8109 t_Accuracy: 0.775000 V_Loss:     0.9697 V_Accuracy: 0.673600\n",
      "Epoch 37, CIFAR-10 Batch 5:  T_Loss:     0.7722 t_Accuracy: 0.725000 V_Loss:     0.9736 V_Accuracy: 0.672600\n",
      "Epoch 38, CIFAR-10 Batch 1:  T_Loss:     1.0080 t_Accuracy: 0.650000 V_Loss:     1.0325 V_Accuracy: 0.645000\n",
      "Epoch 38, CIFAR-10 Batch 2:  T_Loss:     0.8506 t_Accuracy: 0.675000 V_Loss:     0.9786 V_Accuracy: 0.654200\n",
      "Epoch 38, CIFAR-10 Batch 3:  T_Loss:     0.6228 t_Accuracy: 0.825000 V_Loss:     0.9608 V_Accuracy: 0.672200\n",
      "Epoch 38, CIFAR-10 Batch 4:  T_Loss:     0.8603 t_Accuracy: 0.650000 V_Loss:     1.0058 V_Accuracy: 0.654000\n",
      "Epoch 38, CIFAR-10 Batch 5:  T_Loss:     0.7870 t_Accuracy: 0.725000 V_Loss:     0.9734 V_Accuracy: 0.664800\n",
      "Epoch 39, CIFAR-10 Batch 1:  T_Loss:     0.9055 t_Accuracy: 0.700000 V_Loss:     0.9773 V_Accuracy: 0.673200\n",
      "Epoch 39, CIFAR-10 Batch 2:  T_Loss:     0.8168 t_Accuracy: 0.675000 V_Loss:     0.9759 V_Accuracy: 0.664400\n",
      "Epoch 39, CIFAR-10 Batch 3:  T_Loss:     0.6314 t_Accuracy: 0.800000 V_Loss:     0.9546 V_Accuracy: 0.675800\n",
      "Epoch 39, CIFAR-10 Batch 4:  T_Loss:     0.7788 t_Accuracy: 0.750000 V_Loss:     0.9827 V_Accuracy: 0.667000\n",
      "Epoch 39, CIFAR-10 Batch 5:  T_Loss:     0.7195 t_Accuracy: 0.775000 V_Loss:     0.9551 V_Accuracy: 0.676800\n",
      "Epoch 40, CIFAR-10 Batch 1:  T_Loss:     0.8981 t_Accuracy: 0.625000 V_Loss:     0.9718 V_Accuracy: 0.669400\n",
      "Epoch 40, CIFAR-10 Batch 2:  T_Loss:     0.7774 t_Accuracy: 0.700000 V_Loss:     1.0081 V_Accuracy: 0.655000\n",
      "Epoch 40, CIFAR-10 Batch 3:  T_Loss:     0.6514 t_Accuracy: 0.850000 V_Loss:     0.9646 V_Accuracy: 0.669000\n",
      "Epoch 40, CIFAR-10 Batch 4:  T_Loss:     0.8198 t_Accuracy: 0.700000 V_Loss:     0.9517 V_Accuracy: 0.681200\n",
      "Epoch 40, CIFAR-10 Batch 5:  T_Loss:     0.7961 t_Accuracy: 0.700000 V_Loss:     0.9611 V_Accuracy: 0.674400\n",
      "Epoch 41, CIFAR-10 Batch 1:  T_Loss:     0.9487 t_Accuracy: 0.650000 V_Loss:     0.9778 V_Accuracy: 0.656400\n",
      "Epoch 41, CIFAR-10 Batch 2:  T_Loss:     0.8282 t_Accuracy: 0.750000 V_Loss:     0.9804 V_Accuracy: 0.673600\n",
      "Epoch 41, CIFAR-10 Batch 3:  T_Loss:     0.6296 t_Accuracy: 0.825000 V_Loss:     0.9503 V_Accuracy: 0.672200\n",
      "Epoch 41, CIFAR-10 Batch 4:  T_Loss:     0.8554 t_Accuracy: 0.700000 V_Loss:     1.0123 V_Accuracy: 0.653400\n",
      "Epoch 41, CIFAR-10 Batch 5:  T_Loss:     0.7953 t_Accuracy: 0.625000 V_Loss:     0.9815 V_Accuracy: 0.667000\n",
      "Epoch 42, CIFAR-10 Batch 1:  T_Loss:     0.9445 t_Accuracy: 0.675000 V_Loss:     0.9708 V_Accuracy: 0.665200\n",
      "Epoch 42, CIFAR-10 Batch 2:  T_Loss:     0.8307 t_Accuracy: 0.675000 V_Loss:     0.9581 V_Accuracy: 0.671800\n",
      "Epoch 42, CIFAR-10 Batch 3:  T_Loss:     0.6935 t_Accuracy: 0.725000 V_Loss:     0.9958 V_Accuracy: 0.651600\n",
      "Epoch 42, CIFAR-10 Batch 4:  T_Loss:     0.8900 t_Accuracy: 0.625000 V_Loss:     0.9746 V_Accuracy: 0.669800\n",
      "Epoch 42, CIFAR-10 Batch 5:  T_Loss:     0.7560 t_Accuracy: 0.850000 V_Loss:     0.9631 V_Accuracy: 0.673600\n",
      "Epoch 43, CIFAR-10 Batch 1:  T_Loss:     0.9347 t_Accuracy: 0.650000 V_Loss:     0.9852 V_Accuracy: 0.663000\n",
      "Epoch 43, CIFAR-10 Batch 2:  T_Loss:     0.7317 t_Accuracy: 0.725000 V_Loss:     0.9627 V_Accuracy: 0.665600\n",
      "Epoch 43, CIFAR-10 Batch 3:  T_Loss:     0.6130 t_Accuracy: 0.850000 V_Loss:     0.9819 V_Accuracy: 0.659600\n",
      "Epoch 43, CIFAR-10 Batch 4:  T_Loss:     0.7041 t_Accuracy: 0.800000 V_Loss:     0.9452 V_Accuracy: 0.685600\n",
      "Epoch 43, CIFAR-10 Batch 5:  T_Loss:     0.7637 t_Accuracy: 0.725000 V_Loss:     0.9990 V_Accuracy: 0.666800\n",
      "Epoch 44, CIFAR-10 Batch 1:  T_Loss:     0.8790 t_Accuracy: 0.700000 V_Loss:     0.9561 V_Accuracy: 0.673000\n",
      "Epoch 44, CIFAR-10 Batch 2:  T_Loss:     0.8296 t_Accuracy: 0.725000 V_Loss:     0.9705 V_Accuracy: 0.668200\n",
      "Epoch 44, CIFAR-10 Batch 3:  T_Loss:     0.6203 t_Accuracy: 0.875000 V_Loss:     0.9561 V_Accuracy: 0.673600\n",
      "Epoch 44, CIFAR-10 Batch 4:  T_Loss:     0.7955 t_Accuracy: 0.675000 V_Loss:     0.9939 V_Accuracy: 0.668000\n",
      "Epoch 44, CIFAR-10 Batch 5:  T_Loss:     0.7095 t_Accuracy: 0.775000 V_Loss:     0.9525 V_Accuracy: 0.681400\n",
      "Epoch 45, CIFAR-10 Batch 1:  T_Loss:     0.9097 t_Accuracy: 0.750000 V_Loss:     0.9444 V_Accuracy: 0.674600\n",
      "Epoch 45, CIFAR-10 Batch 2:  T_Loss:     0.8572 t_Accuracy: 0.650000 V_Loss:     0.9986 V_Accuracy: 0.651800\n",
      "Epoch 45, CIFAR-10 Batch 3:  T_Loss:     0.6296 t_Accuracy: 0.800000 V_Loss:     0.9589 V_Accuracy: 0.671000\n",
      "Epoch 45, CIFAR-10 Batch 4:  T_Loss:     0.8021 t_Accuracy: 0.700000 V_Loss:     0.9846 V_Accuracy: 0.657800\n",
      "Epoch 45, CIFAR-10 Batch 5:  T_Loss:     0.7367 t_Accuracy: 0.700000 V_Loss:     0.9627 V_Accuracy: 0.669400\n",
      "Epoch 46, CIFAR-10 Batch 1:  T_Loss:     0.9136 t_Accuracy: 0.725000 V_Loss:     0.9936 V_Accuracy: 0.658400\n",
      "Epoch 46, CIFAR-10 Batch 2:  T_Loss:     0.8229 t_Accuracy: 0.675000 V_Loss:     0.9717 V_Accuracy: 0.665600\n",
      "Epoch 46, CIFAR-10 Batch 3:  T_Loss:     0.5969 t_Accuracy: 0.850000 V_Loss:     0.9511 V_Accuracy: 0.675000\n",
      "Epoch 46, CIFAR-10 Batch 4:  T_Loss:     0.7756 t_Accuracy: 0.750000 V_Loss:     0.9595 V_Accuracy: 0.674200\n",
      "Epoch 46, CIFAR-10 Batch 5:  T_Loss:     0.7011 t_Accuracy: 0.750000 V_Loss:     0.9554 V_Accuracy: 0.670000\n",
      "Epoch 47, CIFAR-10 Batch 1:  T_Loss:     0.8438 t_Accuracy: 0.675000 V_Loss:     0.9680 V_Accuracy: 0.667000\n",
      "Epoch 47, CIFAR-10 Batch 2:  T_Loss:     0.8035 t_Accuracy: 0.750000 V_Loss:     0.9648 V_Accuracy: 0.663600\n",
      "Epoch 47, CIFAR-10 Batch 3:  T_Loss:     0.6274 t_Accuracy: 0.850000 V_Loss:     0.9571 V_Accuracy: 0.672800\n",
      "Epoch 47, CIFAR-10 Batch 4:  T_Loss:     0.7235 t_Accuracy: 0.800000 V_Loss:     0.9584 V_Accuracy: 0.670600\n",
      "Epoch 47, CIFAR-10 Batch 5:  T_Loss:     0.7616 t_Accuracy: 0.700000 V_Loss:     0.9512 V_Accuracy: 0.675800\n",
      "Epoch 48, CIFAR-10 Batch 1:  T_Loss:     0.8999 t_Accuracy: 0.725000 V_Loss:     0.9806 V_Accuracy: 0.659800\n",
      "Epoch 48, CIFAR-10 Batch 2:  T_Loss:     0.8572 t_Accuracy: 0.700000 V_Loss:     0.9985 V_Accuracy: 0.647200\n",
      "Epoch 48, CIFAR-10 Batch 3:  T_Loss:     0.6175 t_Accuracy: 0.900000 V_Loss:     0.9342 V_Accuracy: 0.678000\n",
      "Epoch 48, CIFAR-10 Batch 4:  T_Loss:     0.8298 t_Accuracy: 0.700000 V_Loss:     0.9565 V_Accuracy: 0.673000\n",
      "Epoch 48, CIFAR-10 Batch 5:  T_Loss:     0.7541 t_Accuracy: 0.725000 V_Loss:     0.9676 V_Accuracy: 0.670400\n",
      "Epoch 49, CIFAR-10 Batch 1:  T_Loss:     0.8347 t_Accuracy: 0.750000 V_Loss:     0.9469 V_Accuracy: 0.681600\n",
      "Epoch 49, CIFAR-10 Batch 2:  T_Loss:     0.8271 t_Accuracy: 0.675000 V_Loss:     0.9621 V_Accuracy: 0.669200\n",
      "Epoch 49, CIFAR-10 Batch 3:  T_Loss:     0.6403 t_Accuracy: 0.800000 V_Loss:     0.9573 V_Accuracy: 0.668400\n",
      "Epoch 49, CIFAR-10 Batch 4:  T_Loss:     0.7045 t_Accuracy: 0.825000 V_Loss:     0.9481 V_Accuracy: 0.675600\n",
      "Epoch 49, CIFAR-10 Batch 5:  T_Loss:     0.7670 t_Accuracy: 0.750000 V_Loss:     0.9624 V_Accuracy: 0.669200\n",
      "Epoch 50, CIFAR-10 Batch 1:  T_Loss:     0.8871 t_Accuracy: 0.700000 V_Loss:     0.9611 V_Accuracy: 0.664000\n",
      "Epoch 50, CIFAR-10 Batch 2:  T_Loss:     0.7739 t_Accuracy: 0.675000 V_Loss:     0.9420 V_Accuracy: 0.673400\n",
      "Epoch 50, CIFAR-10 Batch 3:  T_Loss:     0.5944 t_Accuracy: 0.850000 V_Loss:     0.9391 V_Accuracy: 0.679800\n",
      "Epoch 50, CIFAR-10 Batch 4:  T_Loss:     0.7354 t_Accuracy: 0.700000 V_Loss:     0.9535 V_Accuracy: 0.668000\n",
      "Epoch 50, CIFAR-10 Batch 5:  T_Loss:     0.7316 t_Accuracy: 0.675000 V_Loss:     0.9444 V_Accuracy: 0.683600\n"
     ]
    }
   ],
   "source": [
    "\"\"\"\n",
    "DON'T MODIFY ANYTHING IN THIS CELL\n",
    "\"\"\"\n",
    "save_model_path = './image_classification'\n",
    "\n",
    "print('Training...')\n",
    "with tf.Session() as sess:\n",
    "    # Initializing the variables\n",
    "    sess.run(tf.global_variables_initializer())\n",
    "    \n",
    "    # Training cycle\n",
    "    for epoch in range(epochs):\n",
    "        # Loop over all batches\n",
    "        n_batches = 5\n",
    "        for batch_i in range(1, n_batches + 1):\n",
    "            for batch_features, batch_labels in helper.load_preprocess_training_batch(batch_i, batch_size):\n",
    "                train_neural_network(sess, optimizer, keep_probability, batch_features, batch_labels)\n",
    "            print('Epoch {:>2}, CIFAR-10 Batch {}:  '.format(epoch + 1, batch_i), end='')\n",
    "            print_stats(sess, batch_features, batch_labels, cost, accuracy)\n",
    "            \n",
    "    # Save Model\n",
    "    saver = tf.train.Saver()\n",
    "    save_path = saver.save(sess, save_model_path)"
   ]
  },
  {
   "cell_type": "markdown",
   "metadata": {
    "deletable": true,
    "editable": true
   },
   "source": [
    "# Checkpoint\n",
    "The model has been saved to disk.\n",
    "## Test Model\n",
    "Test your model against the test dataset.  This will be your final accuracy. You should have an accuracy greater than 50%. If you don't, keep tweaking the model architecture and parameters."
   ]
  },
  {
   "cell_type": "code",
   "execution_count": 18,
   "metadata": {
    "collapsed": false,
    "deletable": true,
    "editable": true
   },
   "outputs": [
    {
     "name": "stdout",
     "output_type": "stream",
     "text": [
      "Testing Accuracy: 0.6753582802547771\n",
      "\n"
     ]
    },
    {
     "data": {
      "image/png": "[encoded data removed]",
      "text/plain": [
       "<matplotlib.figure.Figure at 0x7ff51c1ca358>"
      ]
     },
     "metadata": {
      "image/png": {
       "height": 319,
       "width": 355
      }
     },
     "output_type": "display_data"
    }
   ],
   "source": [
    "\"\"\"\n",
    "DON'T MODIFY ANYTHING IN THIS CELL\n",
    "\"\"\"\n",
    "%matplotlib inline\n",
    "%config InlineBackend.figure_format = 'retina'\n",
    "\n",
    "import tensorflow as tf\n",
    "import pickle\n",
    "import helper\n",
    "import random\n",
    "\n",
    "# Set batch size if not already set\n",
    "try:\n",
    "    if batch_size:\n",
    "        pass\n",
    "except NameError:\n",
    "    batch_size = 64\n",
    "\n",
    "save_model_path = './image_classification'\n",
    "n_samples = 4\n",
    "top_n_predictions = 3\n",
    "\n",
    "def test_model():\n",
    "    \"\"\"\n",
    "    Test the saved model against the test dataset\n",
    "    \"\"\"\n",
    "\n",
    "    test_features, test_labels = pickle.load(open('preprocess_training.p', mode='rb'))\n",
    "    loaded_graph = tf.Graph()\n",
    "\n",
    "    with tf.Session(graph=loaded_graph) as sess:\n",
    "        # Load model\n",
    "        loader = tf.train.import_meta_graph(save_model_path + '.meta')\n",
    "        loader.restore(sess, save_model_path)\n",
    "\n",
    "        # Get Tensors from loaded model\n",
    "        loaded_x = loaded_graph.get_tensor_by_name('x:0')\n",
    "        loaded_y = loaded_graph.get_tensor_by_name('y:0')\n",
    "        loaded_keep_prob = loaded_graph.get_tensor_by_name('keep_prob:0')\n",
    "        loaded_logits = loaded_graph.get_tensor_by_name('logits:0')\n",
    "        loaded_acc = loaded_graph.get_tensor_by_name('accuracy:0')\n",
    "        \n",
    "        # Get accuracy in batches for memory limitations\n",
    "        test_batch_acc_total = 0\n",
    "        test_batch_count = 0\n",
    "        \n",
    "        for train_feature_batch, train_label_batch in helper.batch_features_labels(test_features, test_labels, batch_size):\n",
    "            test_batch_acc_total += sess.run(\n",
    "                loaded_acc,\n",
    "                feed_dict={loaded_x: train_feature_batch, loaded_y: train_label_batch, loaded_keep_prob: 1.0})\n",
    "            test_batch_count += 1\n",
    "\n",
    "        print('Testing Accuracy: {}\\n'.format(test_batch_acc_total/test_batch_count))\n",
    "\n",
    "        # Print Random Samples\n",
    "        random_test_features, random_test_labels = tuple(zip(*random.sample(list(zip(test_features, test_labels)), n_samples)))\n",
    "        random_test_predictions = sess.run(\n",
    "            tf.nn.top_k(tf.nn.softmax(loaded_logits), top_n_predictions),\n",
    "            feed_dict={loaded_x: random_test_features, loaded_y: random_test_labels, loaded_keep_prob: 1.0})\n",
    "        helper.display_image_predictions(random_test_features, random_test_labels, random_test_predictions)\n",
    "\n",
    "\n",
    "test_model()"
   ]
  },
  {
   "cell_type": "markdown",
   "metadata": {
    "deletable": true,
    "editable": true
   },
   "source": [
    "## Why 50-80% Accuracy?\n",
    "You might be wondering why you can't get an accuracy any higher. First things first, 50% isn't bad for a simple CNN.  Pure guessing would get you 10% accuracy. That's because there are many more techniques that can be applied to your model and we recemmond that once you are done with this project, you explore!\n",
    "\n",
    "## Submitting This Project\n",
    "When submitting this project, make sure to run all the cells before saving the notebook.  Save the notebook file as \"image_classification.ipynb\" and save it as a HTML file under \"File\" -> \"Download as\".  Include the \"helper.py\" and \"problem_unittests.py\" files in your submission."
   ]
  }
 ],
 "metadata": {
  "kernelspec": {
   "display_name": "Python 3",
   "language": "python",
   "name": "python3"
  },
  "language_info": {
   "codemirror_mode": {
    "name": "ipython",
    "version": 3
   },
   "file_extension": ".py",
   "mimetype": "text/x-python",
   "name": "python",
   "nbconvert_exporter": "python",
   "pygments_lexer": "ipython3",
   "version": "3.5.3"
  }
 },
 "nbformat": 4,
 "nbformat_minor": 1
}
